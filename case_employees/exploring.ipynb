{
 "cells": [
  {
   "cell_type": "markdown",
   "id": "090cc32d",
   "metadata": {},
   "source": [
    "**EXTRAIR OS DADOS**"
   ]
  },
  {
   "cell_type": "markdown",
   "id": "835940e6",
   "metadata": {},
   "source": [
    "Importar bibliotecas necessárias"
   ]
  },
  {
   "cell_type": "code",
   "execution_count": 94,
   "id": "dfc3e512",
   "metadata": {},
   "outputs": [],
   "source": [
    "import pandas as pd # Para manipulação de databeses e dataframes"
   ]
  },
  {
   "cell_type": "markdown",
   "id": "f2b57526",
   "metadata": {},
   "source": [
    "Obter os caminhos dos arquivos csv"
   ]
  },
  {
   "cell_type": "code",
   "execution_count": 95,
   "id": "f9de6f6d",
   "metadata": {},
   "outputs": [],
   "source": [
    "path_cargos = 'data_raw/cargos.csv'\n",
    "path_estruturas = 'data_raw/estruturas.csv'\n",
    "path_funcionarios = 'data_raw/funcionarios.csv'"
   ]
  },
  {
   "cell_type": "markdown",
   "id": "ba93493c",
   "metadata": {},
   "source": [
    "Ler arquivos CSV como DataFrames"
   ]
  },
  {
   "cell_type": "code",
   "execution_count": 96,
   "id": "2209194e",
   "metadata": {},
   "outputs": [],
   "source": [
    "# Usar encoding:'utf-8' para garantir que os dados sigam os padrões de acentuação brasileiro.\n",
    "\n",
    "df_cargos = pd.read_csv(path_cargos, encoding='utf-8')\n",
    "df_estruturas = pd.read_csv(path_estruturas, encoding='utf-8')\n",
    "df_funcionarios = pd.read_csv(path_funcionarios, encoding='utf-8')"
   ]
  },
  {
   "cell_type": "code",
   "execution_count": 97,
   "id": "66ced540",
   "metadata": {},
   "outputs": [
    {
     "data": {
      "text/html": [
       "<div>\n",
       "<style scoped>\n",
       "    .dataframe tbody tr th:only-of-type {\n",
       "        vertical-align: middle;\n",
       "    }\n",
       "\n",
       "    .dataframe tbody tr th {\n",
       "        vertical-align: top;\n",
       "    }\n",
       "\n",
       "    .dataframe thead th {\n",
       "        text-align: right;\n",
       "    }\n",
       "</style>\n",
       "<table border=\"1\" class=\"dataframe\">\n",
       "  <thead>\n",
       "    <tr style=\"text-align: right;\">\n",
       "      <th></th>\n",
       "      <th>id_funcionario</th>\n",
       "      <th>id_cargo</th>\n",
       "      <th>id_estrutura</th>\n",
       "      <th>estado</th>\n",
       "      <th>data_admissao</th>\n",
       "      <th>data_desligamento</th>\n",
       "    </tr>\n",
       "  </thead>\n",
       "  <tbody>\n",
       "    <tr>\n",
       "      <th>0</th>\n",
       "      <td>1</td>\n",
       "      <td>16</td>\n",
       "      <td>6</td>\n",
       "      <td>São Paulo</td>\n",
       "      <td>2026-01-12</td>\n",
       "      <td>NaN</td>\n",
       "    </tr>\n",
       "    <tr>\n",
       "      <th>1</th>\n",
       "      <td>2</td>\n",
       "      <td>11</td>\n",
       "      <td>10</td>\n",
       "      <td>Santa Catarina</td>\n",
       "      <td>2025-05-22</td>\n",
       "      <td>NaN</td>\n",
       "    </tr>\n",
       "    <tr>\n",
       "      <th>2</th>\n",
       "      <td>3</td>\n",
       "      <td>1</td>\n",
       "      <td>3</td>\n",
       "      <td>São Paulo</td>\n",
       "      <td>2024-07-05</td>\n",
       "      <td>NaN</td>\n",
       "    </tr>\n",
       "    <tr>\n",
       "      <th>3</th>\n",
       "      <td>4</td>\n",
       "      <td>1</td>\n",
       "      <td>8</td>\n",
       "      <td>São Paulo</td>\n",
       "      <td>2024-12-01</td>\n",
       "      <td>NaN</td>\n",
       "    </tr>\n",
       "    <tr>\n",
       "      <th>4</th>\n",
       "      <td>5</td>\n",
       "      <td>2</td>\n",
       "      <td>5</td>\n",
       "      <td>Paraná</td>\n",
       "      <td>2024-12-13</td>\n",
       "      <td>NaN</td>\n",
       "    </tr>\n",
       "    <tr>\n",
       "      <th>...</th>\n",
       "      <td>...</td>\n",
       "      <td>...</td>\n",
       "      <td>...</td>\n",
       "      <td>...</td>\n",
       "      <td>...</td>\n",
       "      <td>...</td>\n",
       "    </tr>\n",
       "    <tr>\n",
       "      <th>95</th>\n",
       "      <td>96</td>\n",
       "      <td>12</td>\n",
       "      <td>2</td>\n",
       "      <td>São Paulo</td>\n",
       "      <td>2024-12-30</td>\n",
       "      <td>NaN</td>\n",
       "    </tr>\n",
       "    <tr>\n",
       "      <th>96</th>\n",
       "      <td>97</td>\n",
       "      <td>14</td>\n",
       "      <td>4</td>\n",
       "      <td>Santa Catarina</td>\n",
       "      <td>2025-04-20</td>\n",
       "      <td>NaN</td>\n",
       "    </tr>\n",
       "    <tr>\n",
       "      <th>97</th>\n",
       "      <td>98</td>\n",
       "      <td>7</td>\n",
       "      <td>9</td>\n",
       "      <td>São Paulo</td>\n",
       "      <td>2024-09-28</td>\n",
       "      <td>NaN</td>\n",
       "    </tr>\n",
       "    <tr>\n",
       "      <th>98</th>\n",
       "      <td>99</td>\n",
       "      <td>12</td>\n",
       "      <td>1</td>\n",
       "      <td>São Paulo</td>\n",
       "      <td>2025-04-19</td>\n",
       "      <td>2025-11-30</td>\n",
       "    </tr>\n",
       "    <tr>\n",
       "      <th>99</th>\n",
       "      <td>100</td>\n",
       "      <td>14</td>\n",
       "      <td>10</td>\n",
       "      <td>São Paulo</td>\n",
       "      <td>2026-01-04</td>\n",
       "      <td>NaN</td>\n",
       "    </tr>\n",
       "  </tbody>\n",
       "</table>\n",
       "<p>100 rows × 6 columns</p>\n",
       "</div>"
      ],
      "text/plain": [
       "    id_funcionario  id_cargo  id_estrutura          estado data_admissao  \\\n",
       "0                1        16             6       São Paulo    2026-01-12   \n",
       "1                2        11            10  Santa Catarina    2025-05-22   \n",
       "2                3         1             3       São Paulo    2024-07-05   \n",
       "3                4         1             8       São Paulo    2024-12-01   \n",
       "4                5         2             5          Paraná    2024-12-13   \n",
       "..             ...       ...           ...             ...           ...   \n",
       "95              96        12             2       São Paulo    2024-12-30   \n",
       "96              97        14             4  Santa Catarina    2025-04-20   \n",
       "97              98         7             9       São Paulo    2024-09-28   \n",
       "98              99        12             1       São Paulo    2025-04-19   \n",
       "99             100        14            10       São Paulo    2026-01-04   \n",
       "\n",
       "   data_desligamento  \n",
       "0                NaN  \n",
       "1                NaN  \n",
       "2                NaN  \n",
       "3                NaN  \n",
       "4                NaN  \n",
       "..               ...  \n",
       "95               NaN  \n",
       "96               NaN  \n",
       "97               NaN  \n",
       "98        2025-11-30  \n",
       "99               NaN  \n",
       "\n",
       "[100 rows x 6 columns]"
      ]
     },
     "execution_count": 97,
     "metadata": {},
     "output_type": "execute_result"
    }
   ],
   "source": [
    "# Visualiza os dados extraídos\n",
    "df_funcionarios"
   ]
  },
  {
   "cell_type": "markdown",
   "id": "87f54ba3",
   "metadata": {},
   "source": [
    "**TRANSFORMAR OS DADOS**"
   ]
  },
  {
   "cell_type": "markdown",
   "id": "42f551b6",
   "metadata": {},
   "source": [
    "Transformar as colunas de data para o tipo 'datetime'"
   ]
  },
  {
   "cell_type": "code",
   "execution_count": 98,
   "id": "e23eb2f5",
   "metadata": {},
   "outputs": [],
   "source": [
    "# Cria uma lista com todos os dataframes\n",
    "df_list = [df_cargos, df_estruturas, df_funcionarios]"
   ]
  },
  {
   "cell_type": "code",
   "execution_count": 99,
   "id": "f83fe328",
   "metadata": {},
   "outputs": [],
   "source": [
    "# Cria uma lista com todos os nomes das colunas de data\n",
    "date_columns = ['start_date', 'end_date', 'data_admissao', 'data_desligamento']"
   ]
  },
  {
   "cell_type": "code",
   "execution_count": 100,
   "id": "5c4850c2",
   "metadata": {},
   "outputs": [
    {
     "data": {
      "text/plain": [
       "str"
      ]
     },
     "execution_count": 100,
     "metadata": {},
     "output_type": "execute_result"
    }
   ],
   "source": [
    "# Verifica o tipo atual das colunas de data\n",
    "type(df_cargos['start_date'][0])"
   ]
  },
  {
   "cell_type": "code",
   "execution_count": 101,
   "id": "82d9924c",
   "metadata": {},
   "outputs": [],
   "source": [
    "# Transforma o tipo de todas as colunas de data em todos os dataframes para o formato 'datetime'\n",
    "for df in df_list:\n",
    "\n",
    "    # Obter todas os nomes das colunas do dataframe atual\n",
    "    df_columns = df.columns.tolist()\n",
    "\n",
    "    for column in df_columns:\n",
    "        # Verifica se o nome da atual coluna possui na lista de 'date_columns'\n",
    "        if column in date_columns:\n",
    "            # Transforma a coluna atual para o tipo 'datetime'\n",
    "            df[column] = pd.to_datetime(df[column], errors='coerce')\n"
   ]
  },
  {
   "cell_type": "code",
   "execution_count": 102,
   "id": "8e50b20a",
   "metadata": {},
   "outputs": [
    {
     "data": {
      "text/plain": [
       "Timestamp('2024-01-01 00:00:00')"
      ]
     },
     "execution_count": 102,
     "metadata": {},
     "output_type": "execute_result"
    }
   ],
   "source": [
    "# Verifica o novo tipo das colunas de data\n",
    "df_cargos['start_date'][0]"
   ]
  },
  {
   "cell_type": "markdown",
   "id": "1fb728f5",
   "metadata": {},
   "source": [
    "**Unir as tabelas \"funcionarios\" e \"cargos\"**"
   ]
  },
  {
   "cell_type": "markdown",
   "id": "86ce5c22",
   "metadata": {},
   "source": [
    "Validação explícita para verificar se todos os id_cargo em df_funcionarios existem no df_cargos"
   ]
  },
  {
   "cell_type": "code",
   "execution_count": 103,
   "id": "7702b3c7",
   "metadata": {},
   "outputs": [
    {
     "name": "stdout",
     "output_type": "stream",
     "text": [
      "A tabela funcionarios não possui nenhum id_cargo inválido.\n"
     ]
    }
   ],
   "source": [
    "validation_col = 'cargo_valido' # Coluna de validação\n",
    "col_to_verify = 'id_cargo' # Coluna a ser validada\n",
    "\n",
    "# Cria uma coluna que verifica se todos os id_cargo em df_funcionarios existem no df_cargos\n",
    "df_funcionarios[validation_col] = df_funcionarios[col_to_verify].isin(df_cargos[col_to_verify])\n",
    "\n",
    "# Verifica se possui algum valor False na coluna de validação\n",
    "has_false = (df_funcionarios[validation_col] == False).any()\n",
    "\n",
    "# Exclui a coluna de validação\n",
    "df_funcionarios.drop(axis=1, columns=validation_col)\n",
    "\n",
    "if has_false:\n",
    "    print(\"A tabela funcionarios contém pelo menos um \" + col_to_verify + \" inválido.\")\n",
    "else:\n",
    "    print(\"A tabela funcionarios não possui nenhum \" + col_to_verify + \" inválido.\")\n",
    "\n"
   ]
  },
  {
   "cell_type": "markdown",
   "id": "a180b665",
   "metadata": {},
   "source": [
    "Unir as tabelas"
   ]
  },
  {
   "cell_type": "code",
   "execution_count": 104,
   "id": "33991597",
   "metadata": {},
   "outputs": [],
   "source": [
    "df_merged = pd.merge(df_funcionarios, df_cargos, on='id_cargo', how='left') # LEFT JOIN para manter \"funcionarios\", mesmo que não exista um \"cargo\" correspondente"
   ]
  },
  {
   "cell_type": "markdown",
   "id": "4d981b38",
   "metadata": {},
   "source": [
    "Filtrar \"data_admissao\" e \"data_desligamento\" \n",
    "para estar entre \"start_date\" e \"end_date\""
   ]
  },
  {
   "cell_type": "code",
   "execution_count": 105,
   "id": "59bd9297",
   "metadata": {},
   "outputs": [],
   "source": [
    "# Obtém todos NaT de \"data_desligamento\" e substitui por \"end_date\" !!!!!!!!!!!!!!!!!!!!!!!!!!!!!!!!!!!!!!!!!!!!!!\n",
    "df_merged.loc[df_merged['data_desligamento'].isna(), 'data_desligamento'] = df_merged['end_date']\n"
   ]
  },
  {
   "cell_type": "code",
   "execution_count": 106,
   "id": "02993843",
   "metadata": {},
   "outputs": [],
   "source": [
    "# Filtra o novo dataframe unido\n",
    "df_filtered = df_merged[\n",
    "    (df_merged['data_admissao'] >= df_merged['start_date']) &\n",
    "    (df_merged['data_desligamento'] <= df_merged['end_date'])\n",
    "]"
   ]
  },
  {
   "cell_type": "code",
   "execution_count": 107,
   "id": "2f6df0c7",
   "metadata": {},
   "outputs": [
    {
     "name": "stdout",
     "output_type": "stream",
     "text": [
      "Total de linhas de df_merged: 100\n",
      "Total de linhas de df_filtered: 93\n"
     ]
    }
   ],
   "source": [
    "# Valida o número de linhas do antigo e o novo dataframe filtrado\n",
    "print(\"Total de linhas de df_merged: \" + str(df_merged.__len__()))\n",
    "print(\"Total de linhas de df_filtered: \" + str(df_filtered.__len__()))"
   ]
  },
  {
   "cell_type": "markdown",
   "id": "7d4e0ebe",
   "metadata": {},
   "source": [
    "Visualizar a nova tabela unida e filtrada"
   ]
  },
  {
   "cell_type": "code",
   "execution_count": 108,
   "id": "3eabeaa1",
   "metadata": {},
   "outputs": [
    {
     "data": {
      "text/html": [
       "<div>\n",
       "<style scoped>\n",
       "    .dataframe tbody tr th:only-of-type {\n",
       "        vertical-align: middle;\n",
       "    }\n",
       "\n",
       "    .dataframe tbody tr th {\n",
       "        vertical-align: top;\n",
       "    }\n",
       "\n",
       "    .dataframe thead th {\n",
       "        text-align: right;\n",
       "    }\n",
       "</style>\n",
       "<table border=\"1\" class=\"dataframe\">\n",
       "  <thead>\n",
       "    <tr style=\"text-align: right;\">\n",
       "      <th></th>\n",
       "      <th>id_funcionario</th>\n",
       "      <th>id_cargo</th>\n",
       "      <th>id_estrutura</th>\n",
       "      <th>estado</th>\n",
       "      <th>data_admissao</th>\n",
       "      <th>data_desligamento</th>\n",
       "      <th>cargo_valido</th>\n",
       "      <th>nome_cargo</th>\n",
       "      <th>start_date</th>\n",
       "      <th>end_date</th>\n",
       "    </tr>\n",
       "  </thead>\n",
       "  <tbody>\n",
       "    <tr>\n",
       "      <th>0</th>\n",
       "      <td>1</td>\n",
       "      <td>16</td>\n",
       "      <td>6</td>\n",
       "      <td>São Paulo</td>\n",
       "      <td>2026-01-12</td>\n",
       "      <td>2026-03-31</td>\n",
       "      <td>True</td>\n",
       "      <td>Gerente de Produto</td>\n",
       "      <td>2025-03-01</td>\n",
       "      <td>2026-03-31</td>\n",
       "    </tr>\n",
       "    <tr>\n",
       "      <th>1</th>\n",
       "      <td>2</td>\n",
       "      <td>11</td>\n",
       "      <td>10</td>\n",
       "      <td>Santa Catarina</td>\n",
       "      <td>2025-05-22</td>\n",
       "      <td>2025-10-31</td>\n",
       "      <td>True</td>\n",
       "      <td>Consultor de TI</td>\n",
       "      <td>2024-10-01</td>\n",
       "      <td>2025-10-31</td>\n",
       "    </tr>\n",
       "    <tr>\n",
       "      <th>2</th>\n",
       "      <td>3</td>\n",
       "      <td>1</td>\n",
       "      <td>3</td>\n",
       "      <td>São Paulo</td>\n",
       "      <td>2024-07-05</td>\n",
       "      <td>2024-12-31</td>\n",
       "      <td>True</td>\n",
       "      <td>Analista de Banco de Dados</td>\n",
       "      <td>2024-01-01</td>\n",
       "      <td>2024-12-31</td>\n",
       "    </tr>\n",
       "    <tr>\n",
       "      <th>3</th>\n",
       "      <td>4</td>\n",
       "      <td>1</td>\n",
       "      <td>8</td>\n",
       "      <td>São Paulo</td>\n",
       "      <td>2024-12-01</td>\n",
       "      <td>2024-12-31</td>\n",
       "      <td>True</td>\n",
       "      <td>Analista de Banco de Dados</td>\n",
       "      <td>2024-01-01</td>\n",
       "      <td>2024-12-31</td>\n",
       "    </tr>\n",
       "    <tr>\n",
       "      <th>4</th>\n",
       "      <td>5</td>\n",
       "      <td>2</td>\n",
       "      <td>5</td>\n",
       "      <td>Paraná</td>\n",
       "      <td>2024-12-13</td>\n",
       "      <td>2025-01-31</td>\n",
       "      <td>True</td>\n",
       "      <td>Analista de Suporte</td>\n",
       "      <td>2024-01-01</td>\n",
       "      <td>2025-01-31</td>\n",
       "    </tr>\n",
       "    <tr>\n",
       "      <th>...</th>\n",
       "      <td>...</td>\n",
       "      <td>...</td>\n",
       "      <td>...</td>\n",
       "      <td>...</td>\n",
       "      <td>...</td>\n",
       "      <td>...</td>\n",
       "      <td>...</td>\n",
       "      <td>...</td>\n",
       "      <td>...</td>\n",
       "      <td>...</td>\n",
       "    </tr>\n",
       "    <tr>\n",
       "      <th>95</th>\n",
       "      <td>96</td>\n",
       "      <td>12</td>\n",
       "      <td>2</td>\n",
       "      <td>São Paulo</td>\n",
       "      <td>2024-12-30</td>\n",
       "      <td>2025-11-30</td>\n",
       "      <td>True</td>\n",
       "      <td>Desenvolvedor Front-end</td>\n",
       "      <td>2024-11-01</td>\n",
       "      <td>2025-11-30</td>\n",
       "    </tr>\n",
       "    <tr>\n",
       "      <th>96</th>\n",
       "      <td>97</td>\n",
       "      <td>14</td>\n",
       "      <td>4</td>\n",
       "      <td>Santa Catarina</td>\n",
       "      <td>2025-04-20</td>\n",
       "      <td>2026-01-31</td>\n",
       "      <td>True</td>\n",
       "      <td>Engenheiro de Dados</td>\n",
       "      <td>2025-01-01</td>\n",
       "      <td>2026-01-31</td>\n",
       "    </tr>\n",
       "    <tr>\n",
       "      <th>97</th>\n",
       "      <td>98</td>\n",
       "      <td>7</td>\n",
       "      <td>9</td>\n",
       "      <td>São Paulo</td>\n",
       "      <td>2024-09-28</td>\n",
       "      <td>2025-06-30</td>\n",
       "      <td>True</td>\n",
       "      <td>Administrador de Sistemas</td>\n",
       "      <td>2024-06-01</td>\n",
       "      <td>2025-06-30</td>\n",
       "    </tr>\n",
       "    <tr>\n",
       "      <th>98</th>\n",
       "      <td>99</td>\n",
       "      <td>12</td>\n",
       "      <td>1</td>\n",
       "      <td>São Paulo</td>\n",
       "      <td>2025-04-19</td>\n",
       "      <td>2025-11-30</td>\n",
       "      <td>True</td>\n",
       "      <td>Desenvolvedor Front-end</td>\n",
       "      <td>2024-11-01</td>\n",
       "      <td>2025-11-30</td>\n",
       "    </tr>\n",
       "    <tr>\n",
       "      <th>99</th>\n",
       "      <td>100</td>\n",
       "      <td>14</td>\n",
       "      <td>10</td>\n",
       "      <td>São Paulo</td>\n",
       "      <td>2026-01-04</td>\n",
       "      <td>2026-01-31</td>\n",
       "      <td>True</td>\n",
       "      <td>Engenheiro de Dados</td>\n",
       "      <td>2025-01-01</td>\n",
       "      <td>2026-01-31</td>\n",
       "    </tr>\n",
       "  </tbody>\n",
       "</table>\n",
       "<p>93 rows × 10 columns</p>\n",
       "</div>"
      ],
      "text/plain": [
       "    id_funcionario  id_cargo  id_estrutura          estado data_admissao  \\\n",
       "0                1        16             6       São Paulo    2026-01-12   \n",
       "1                2        11            10  Santa Catarina    2025-05-22   \n",
       "2                3         1             3       São Paulo    2024-07-05   \n",
       "3                4         1             8       São Paulo    2024-12-01   \n",
       "4                5         2             5          Paraná    2024-12-13   \n",
       "..             ...       ...           ...             ...           ...   \n",
       "95              96        12             2       São Paulo    2024-12-30   \n",
       "96              97        14             4  Santa Catarina    2025-04-20   \n",
       "97              98         7             9       São Paulo    2024-09-28   \n",
       "98              99        12             1       São Paulo    2025-04-19   \n",
       "99             100        14            10       São Paulo    2026-01-04   \n",
       "\n",
       "   data_desligamento  cargo_valido                  nome_cargo start_date  \\\n",
       "0         2026-03-31          True          Gerente de Produto 2025-03-01   \n",
       "1         2025-10-31          True             Consultor de TI 2024-10-01   \n",
       "2         2024-12-31          True  Analista de Banco de Dados 2024-01-01   \n",
       "3         2024-12-31          True  Analista de Banco de Dados 2024-01-01   \n",
       "4         2025-01-31          True         Analista de Suporte 2024-01-01   \n",
       "..               ...           ...                         ...        ...   \n",
       "95        2025-11-30          True     Desenvolvedor Front-end 2024-11-01   \n",
       "96        2026-01-31          True         Engenheiro de Dados 2025-01-01   \n",
       "97        2025-06-30          True   Administrador de Sistemas 2024-06-01   \n",
       "98        2025-11-30          True     Desenvolvedor Front-end 2024-11-01   \n",
       "99        2026-01-31          True         Engenheiro de Dados 2025-01-01   \n",
       "\n",
       "     end_date  \n",
       "0  2026-03-31  \n",
       "1  2025-10-31  \n",
       "2  2024-12-31  \n",
       "3  2024-12-31  \n",
       "4  2025-01-31  \n",
       "..        ...  \n",
       "95 2025-11-30  \n",
       "96 2026-01-31  \n",
       "97 2025-06-30  \n",
       "98 2025-11-30  \n",
       "99 2026-01-31  \n",
       "\n",
       "[93 rows x 10 columns]"
      ]
     },
     "execution_count": 108,
     "metadata": {},
     "output_type": "execute_result"
    }
   ],
   "source": [
    "# Confirma a nova tabela filtrada (funcionarios e cargos)\n",
    "df_filtered"
   ]
  },
  {
   "cell_type": "markdown",
   "id": "94b170c5",
   "metadata": {},
   "source": [
    "**Unir as tabelas anteriores e a tabela \"estruturas\"**"
   ]
  },
  {
   "cell_type": "markdown",
   "id": "f19c7d7f",
   "metadata": {},
   "source": [
    "Validação explícita para verificar se todos os id_estruturas em df_funcionarios existem no df_estruturas"
   ]
  },
  {
   "cell_type": "code",
   "execution_count": 109,
   "id": "0883ee37",
   "metadata": {},
   "outputs": [
    {
     "name": "stdout",
     "output_type": "stream",
     "text": [
      "A tabela funcionarios não possui nenhum id_estrutura inválido.\n"
     ]
    }
   ],
   "source": [
    "validation_col = 'estrutura_valido' # Coluna de validação\n",
    "col_to_verify = 'id_estrutura' # Coluna a ser validada\n",
    "\n",
    "# Cria uma coluna que verifica se todos os id_estrutura em df_funcionarios existem no df_estruturas\n",
    "df_funcionarios[validation_col] = df_funcionarios[col_to_verify].isin(df_estruturas[col_to_verify])\n",
    "\n",
    "# Verifica se possui algum valor False na coluna de validação\n",
    "has_false = (df_funcionarios[validation_col] == False).any()\n",
    "\n",
    "# Exclui a coluna de validação\n",
    "df_funcionarios.drop(axis=1, columns=validation_col)\n",
    "\n",
    "if has_false:\n",
    "    print(\"A tabela funcionarios contém pelo menos um \" + col_to_verify + \" inválido.\")\n",
    "else:\n",
    "    print(\"A tabela funcionarios não possui nenhum \" + col_to_verify + \" inválido.\")"
   ]
  },
  {
   "cell_type": "markdown",
   "id": "c86083ac",
   "metadata": {},
   "source": [
    "Unir as tabelas"
   ]
  },
  {
   "cell_type": "code",
   "execution_count": 110,
   "id": "e6054e95",
   "metadata": {},
   "outputs": [],
   "source": [
    "df_merged_all = pd.merge(df_filtered, df_estruturas, on='id_estrutura', how='left') # LEFT JOIN para manter os dados anteriores"
   ]
  },
  {
   "cell_type": "markdown",
   "id": "4f50fce0",
   "metadata": {},
   "source": [
    "Renomeia a colunas start e end para uma melhor manipulação posterior"
   ]
  },
  {
   "cell_type": "code",
   "execution_count": 111,
   "id": "b243bf59",
   "metadata": {},
   "outputs": [],
   "source": [
    "df_merged_all = df_merged_all.rename(columns={\n",
    "    'start_date_x': 'start_date_cargo',\n",
    "    'end_date_x': 'end_date_cargo',\n",
    "    'start_date_y': 'start_date_estrutura',\n",
    "    'end_date_y': 'end_date_estrutura'\n",
    "})"
   ]
  },
  {
   "cell_type": "markdown",
   "id": "56df609f",
   "metadata": {},
   "source": [
    "Filtra \"data_admissao\" e \"data_desligamento\" para estar entre \"start_date_estrutura\" e \"end_date_estrutura\""
   ]
  },
  {
   "cell_type": "code",
   "execution_count": 112,
   "id": "ae63de66",
   "metadata": {},
   "outputs": [],
   "source": [
    "# Filtrar o dataframe com todas as tabelas unidas\n",
    "df_filtered_all = df_merged_all[\n",
    "    (df_merged_all['data_admissao'] >= df_merged_all['start_date_estrutura']) &\n",
    "    ((df_merged_all['data_desligamento'] <= df_merged_all['end_date_estrutura']))\n",
    "]"
   ]
  },
  {
   "cell_type": "code",
   "execution_count": 113,
   "id": "8c5037b1",
   "metadata": {},
   "outputs": [
    {
     "name": "stdout",
     "output_type": "stream",
     "text": [
      "Tamanho da nova tabela filtrada: 26\n"
     ]
    }
   ],
   "source": [
    "# Valida o tamanho de linhas da nova tabela após o filtro de tempo\n",
    "print(\"Tamanho da nova tabela filtrada: \" + str(df_filtered_all.__len__()))"
   ]
  },
  {
   "cell_type": "markdown",
   "id": "ea3169de",
   "metadata": {},
   "source": [
    "Remove as colunas \"start_date\" e \"end_date\""
   ]
  },
  {
   "cell_type": "code",
   "execution_count": 114,
   "id": "a5e0693c",
   "metadata": {},
   "outputs": [],
   "source": [
    "# Remove colunas\n",
    "df_formated = df_filtered_all.drop(axis=1, columns=[\n",
    "    'start_date_cargo', 'end_date_cargo', 'start_date_estrutura', 'end_date_estrutura'\n",
    "])"
   ]
  },
  {
   "cell_type": "markdown",
   "id": "be712065",
   "metadata": {},
   "source": [
    "Reorganizar as colunas"
   ]
  },
  {
   "cell_type": "code",
   "execution_count": 115,
   "id": "7926eb57",
   "metadata": {},
   "outputs": [],
   "source": [
    "# Reoganiza as colunas na ordem desejada (Para melhor visualização do usuário final)\n",
    "df_formated = df_formated[['id_funcionario', 'data_admissao', 'data_desligamento', 'estado', 'id_cargo', 'nome_cargo', 'id_estrutura', 'nome_estrutura']]"
   ]
  },
  {
   "cell_type": "markdown",
   "id": "ab8777a6",
   "metadata": {},
   "source": [
    "Visualizar a Tabela Final formatada"
   ]
  },
  {
   "cell_type": "code",
   "execution_count": 116,
   "id": "45d559a2",
   "metadata": {},
   "outputs": [
    {
     "data": {
      "text/html": [
       "<div>\n",
       "<style scoped>\n",
       "    .dataframe tbody tr th:only-of-type {\n",
       "        vertical-align: middle;\n",
       "    }\n",
       "\n",
       "    .dataframe tbody tr th {\n",
       "        vertical-align: top;\n",
       "    }\n",
       "\n",
       "    .dataframe thead th {\n",
       "        text-align: right;\n",
       "    }\n",
       "</style>\n",
       "<table border=\"1\" class=\"dataframe\">\n",
       "  <thead>\n",
       "    <tr style=\"text-align: right;\">\n",
       "      <th></th>\n",
       "      <th>id_funcionario</th>\n",
       "      <th>data_admissao</th>\n",
       "      <th>data_desligamento</th>\n",
       "      <th>estado</th>\n",
       "      <th>id_cargo</th>\n",
       "      <th>nome_cargo</th>\n",
       "      <th>id_estrutura</th>\n",
       "      <th>nome_estrutura</th>\n",
       "    </tr>\n",
       "  </thead>\n",
       "  <tbody>\n",
       "    <tr>\n",
       "      <th>2</th>\n",
       "      <td>3</td>\n",
       "      <td>2024-07-05</td>\n",
       "      <td>2024-12-31</td>\n",
       "      <td>São Paulo</td>\n",
       "      <td>1</td>\n",
       "      <td>Analista de Banco de Dados</td>\n",
       "      <td>3</td>\n",
       "      <td>GER TECNOLOGIA DA INFORMAÇÃO</td>\n",
       "    </tr>\n",
       "    <tr>\n",
       "      <th>3</th>\n",
       "      <td>4</td>\n",
       "      <td>2024-12-01</td>\n",
       "      <td>2024-12-31</td>\n",
       "      <td>São Paulo</td>\n",
       "      <td>1</td>\n",
       "      <td>Analista de Banco de Dados</td>\n",
       "      <td>8</td>\n",
       "      <td>GER VENDAS</td>\n",
       "    </tr>\n",
       "    <tr>\n",
       "      <th>4</th>\n",
       "      <td>5</td>\n",
       "      <td>2024-12-13</td>\n",
       "      <td>2025-01-31</td>\n",
       "      <td>Paraná</td>\n",
       "      <td>2</td>\n",
       "      <td>Analista de Suporte</td>\n",
       "      <td>5</td>\n",
       "      <td>GER FINANCEIRO</td>\n",
       "    </tr>\n",
       "    <tr>\n",
       "      <th>5</th>\n",
       "      <td>6</td>\n",
       "      <td>2024-10-22</td>\n",
       "      <td>2025-02-28</td>\n",
       "      <td>Santa Catarina</td>\n",
       "      <td>3</td>\n",
       "      <td>Analista de Segurança da Informação SR</td>\n",
       "      <td>7</td>\n",
       "      <td>GER OPERAÇÕES</td>\n",
       "    </tr>\n",
       "    <tr>\n",
       "      <th>11</th>\n",
       "      <td>13</td>\n",
       "      <td>2024-10-12</td>\n",
       "      <td>2025-05-31</td>\n",
       "      <td>São Paulo</td>\n",
       "      <td>6</td>\n",
       "      <td>Engenheiro de Software</td>\n",
       "      <td>10</td>\n",
       "      <td>GER DESENVOLVIMENTO DE NEGÓCIOS</td>\n",
       "    </tr>\n",
       "    <tr>\n",
       "      <th>12</th>\n",
       "      <td>14</td>\n",
       "      <td>2024-05-15</td>\n",
       "      <td>2025-01-31</td>\n",
       "      <td>São Paulo</td>\n",
       "      <td>2</td>\n",
       "      <td>Analista de Suporte</td>\n",
       "      <td>6</td>\n",
       "      <td>GER MARKETING</td>\n",
       "    </tr>\n",
       "    <tr>\n",
       "      <th>19</th>\n",
       "      <td>21</td>\n",
       "      <td>2025-01-24</td>\n",
       "      <td>2025-08-31</td>\n",
       "      <td>São Paulo</td>\n",
       "      <td>9</td>\n",
       "      <td>Gerente de TI</td>\n",
       "      <td>10</td>\n",
       "      <td>GER DESENVOLVIMENTO DE NEGÓCIOS</td>\n",
       "    </tr>\n",
       "    <tr>\n",
       "      <th>24</th>\n",
       "      <td>27</td>\n",
       "      <td>2024-11-07</td>\n",
       "      <td>2024-12-31</td>\n",
       "      <td>Paraná</td>\n",
       "      <td>1</td>\n",
       "      <td>Analista de Banco de Dados</td>\n",
       "      <td>2</td>\n",
       "      <td>GER INTELIGENCIA COMERCIAL B2B</td>\n",
       "    </tr>\n",
       "    <tr>\n",
       "      <th>28</th>\n",
       "      <td>32</td>\n",
       "      <td>2025-01-04</td>\n",
       "      <td>2025-01-31</td>\n",
       "      <td>Rio de Janeiro</td>\n",
       "      <td>2</td>\n",
       "      <td>Analista de Suporte</td>\n",
       "      <td>7</td>\n",
       "      <td>GER OPERAÇÕES</td>\n",
       "    </tr>\n",
       "    <tr>\n",
       "      <th>33</th>\n",
       "      <td>37</td>\n",
       "      <td>2024-12-19</td>\n",
       "      <td>2024-12-31</td>\n",
       "      <td>São Paulo</td>\n",
       "      <td>1</td>\n",
       "      <td>Analista de Banco de Dados</td>\n",
       "      <td>8</td>\n",
       "      <td>GER VENDAS</td>\n",
       "    </tr>\n",
       "    <tr>\n",
       "      <th>40</th>\n",
       "      <td>44</td>\n",
       "      <td>2024-08-31</td>\n",
       "      <td>2025-03-31</td>\n",
       "      <td>São Paulo</td>\n",
       "      <td>4</td>\n",
       "      <td>Desenvolvedor de Software</td>\n",
       "      <td>6</td>\n",
       "      <td>GER MARKETING</td>\n",
       "    </tr>\n",
       "    <tr>\n",
       "      <th>43</th>\n",
       "      <td>47</td>\n",
       "      <td>2024-06-29</td>\n",
       "      <td>2024-12-31</td>\n",
       "      <td>São Paulo</td>\n",
       "      <td>1</td>\n",
       "      <td>Analista de Banco de Dados</td>\n",
       "      <td>4</td>\n",
       "      <td>GER RECURSOS HUMANOS</td>\n",
       "    </tr>\n",
       "    <tr>\n",
       "      <th>48</th>\n",
       "      <td>52</td>\n",
       "      <td>2025-04-28</td>\n",
       "      <td>2025-06-30</td>\n",
       "      <td>Rio de Janeiro</td>\n",
       "      <td>7</td>\n",
       "      <td>Administrador de Sistemas</td>\n",
       "      <td>8</td>\n",
       "      <td>GER VENDAS</td>\n",
       "    </tr>\n",
       "    <tr>\n",
       "      <th>49</th>\n",
       "      <td>53</td>\n",
       "      <td>2024-09-13</td>\n",
       "      <td>2024-12-31</td>\n",
       "      <td>Paraná</td>\n",
       "      <td>1</td>\n",
       "      <td>Analista de Banco de Dados</td>\n",
       "      <td>10</td>\n",
       "      <td>GER DESENVOLVIMENTO DE NEGÓCIOS</td>\n",
       "    </tr>\n",
       "    <tr>\n",
       "      <th>62</th>\n",
       "      <td>68</td>\n",
       "      <td>2024-08-04</td>\n",
       "      <td>2025-02-28</td>\n",
       "      <td>Santa Catarina</td>\n",
       "      <td>3</td>\n",
       "      <td>Analista de Segurança da Informação SR</td>\n",
       "      <td>9</td>\n",
       "      <td>GER SUPORTE AO CLIENTE</td>\n",
       "    </tr>\n",
       "    <tr>\n",
       "      <th>63</th>\n",
       "      <td>69</td>\n",
       "      <td>2025-05-21</td>\n",
       "      <td>2025-08-31</td>\n",
       "      <td>São Paulo</td>\n",
       "      <td>9</td>\n",
       "      <td>Gerente de TI</td>\n",
       "      <td>9</td>\n",
       "      <td>GER SUPORTE AO CLIENTE</td>\n",
       "    </tr>\n",
       "    <tr>\n",
       "      <th>70</th>\n",
       "      <td>76</td>\n",
       "      <td>2024-06-12</td>\n",
       "      <td>2025-03-31</td>\n",
       "      <td>São Paulo</td>\n",
       "      <td>4</td>\n",
       "      <td>Desenvolvedor de Software</td>\n",
       "      <td>6</td>\n",
       "      <td>GER MARKETING</td>\n",
       "    </tr>\n",
       "    <tr>\n",
       "      <th>72</th>\n",
       "      <td>78</td>\n",
       "      <td>2025-02-04</td>\n",
       "      <td>2025-04-30</td>\n",
       "      <td>São Paulo</td>\n",
       "      <td>5</td>\n",
       "      <td>Gerente de Projetos</td>\n",
       "      <td>7</td>\n",
       "      <td>GER OPERAÇÕES</td>\n",
       "    </tr>\n",
       "    <tr>\n",
       "      <th>73</th>\n",
       "      <td>79</td>\n",
       "      <td>2024-03-05</td>\n",
       "      <td>2024-12-31</td>\n",
       "      <td>São Paulo</td>\n",
       "      <td>1</td>\n",
       "      <td>Analista de Banco de Dados</td>\n",
       "      <td>4</td>\n",
       "      <td>GER RECURSOS HUMANOS</td>\n",
       "    </tr>\n",
       "    <tr>\n",
       "      <th>74</th>\n",
       "      <td>80</td>\n",
       "      <td>2025-05-27</td>\n",
       "      <td>2025-07-31</td>\n",
       "      <td>Rio de Janeiro</td>\n",
       "      <td>8</td>\n",
       "      <td>Especialista em Redes</td>\n",
       "      <td>10</td>\n",
       "      <td>GER DESENVOLVIMENTO DE NEGÓCIOS</td>\n",
       "    </tr>\n",
       "    <tr>\n",
       "      <th>77</th>\n",
       "      <td>84</td>\n",
       "      <td>2024-12-25</td>\n",
       "      <td>2025-01-31</td>\n",
       "      <td>São Paulo</td>\n",
       "      <td>2</td>\n",
       "      <td>Analista de Suporte</td>\n",
       "      <td>5</td>\n",
       "      <td>GER FINANCEIRO</td>\n",
       "    </tr>\n",
       "    <tr>\n",
       "      <th>79</th>\n",
       "      <td>86</td>\n",
       "      <td>2024-07-13</td>\n",
       "      <td>2025-03-31</td>\n",
       "      <td>São Paulo</td>\n",
       "      <td>4</td>\n",
       "      <td>Desenvolvedor de Software</td>\n",
       "      <td>4</td>\n",
       "      <td>GER RECURSOS HUMANOS</td>\n",
       "    </tr>\n",
       "    <tr>\n",
       "      <th>82</th>\n",
       "      <td>89</td>\n",
       "      <td>2025-01-24</td>\n",
       "      <td>2025-03-31</td>\n",
       "      <td>São Paulo</td>\n",
       "      <td>4</td>\n",
       "      <td>Desenvolvedor de Software</td>\n",
       "      <td>5</td>\n",
       "      <td>GER FINANCEIRO</td>\n",
       "    </tr>\n",
       "    <tr>\n",
       "      <th>84</th>\n",
       "      <td>91</td>\n",
       "      <td>2024-07-09</td>\n",
       "      <td>2025-01-31</td>\n",
       "      <td>Paraná</td>\n",
       "      <td>2</td>\n",
       "      <td>Analista de Suporte</td>\n",
       "      <td>7</td>\n",
       "      <td>GER OPERAÇÕES</td>\n",
       "    </tr>\n",
       "    <tr>\n",
       "      <th>85</th>\n",
       "      <td>93</td>\n",
       "      <td>2024-09-14</td>\n",
       "      <td>2025-03-31</td>\n",
       "      <td>São Paulo</td>\n",
       "      <td>4</td>\n",
       "      <td>Desenvolvedor de Software</td>\n",
       "      <td>6</td>\n",
       "      <td>GER MARKETING</td>\n",
       "    </tr>\n",
       "    <tr>\n",
       "      <th>90</th>\n",
       "      <td>98</td>\n",
       "      <td>2024-09-28</td>\n",
       "      <td>2025-06-30</td>\n",
       "      <td>São Paulo</td>\n",
       "      <td>7</td>\n",
       "      <td>Administrador de Sistemas</td>\n",
       "      <td>9</td>\n",
       "      <td>GER SUPORTE AO CLIENTE</td>\n",
       "    </tr>\n",
       "  </tbody>\n",
       "</table>\n",
       "</div>"
      ],
      "text/plain": [
       "    id_funcionario data_admissao data_desligamento          estado  id_cargo  \\\n",
       "2                3    2024-07-05        2024-12-31       São Paulo         1   \n",
       "3                4    2024-12-01        2024-12-31       São Paulo         1   \n",
       "4                5    2024-12-13        2025-01-31          Paraná         2   \n",
       "5                6    2024-10-22        2025-02-28  Santa Catarina         3   \n",
       "11              13    2024-10-12        2025-05-31       São Paulo         6   \n",
       "12              14    2024-05-15        2025-01-31       São Paulo         2   \n",
       "19              21    2025-01-24        2025-08-31       São Paulo         9   \n",
       "24              27    2024-11-07        2024-12-31          Paraná         1   \n",
       "28              32    2025-01-04        2025-01-31  Rio de Janeiro         2   \n",
       "33              37    2024-12-19        2024-12-31       São Paulo         1   \n",
       "40              44    2024-08-31        2025-03-31       São Paulo         4   \n",
       "43              47    2024-06-29        2024-12-31       São Paulo         1   \n",
       "48              52    2025-04-28        2025-06-30  Rio de Janeiro         7   \n",
       "49              53    2024-09-13        2024-12-31          Paraná         1   \n",
       "62              68    2024-08-04        2025-02-28  Santa Catarina         3   \n",
       "63              69    2025-05-21        2025-08-31       São Paulo         9   \n",
       "70              76    2024-06-12        2025-03-31       São Paulo         4   \n",
       "72              78    2025-02-04        2025-04-30       São Paulo         5   \n",
       "73              79    2024-03-05        2024-12-31       São Paulo         1   \n",
       "74              80    2025-05-27        2025-07-31  Rio de Janeiro         8   \n",
       "77              84    2024-12-25        2025-01-31       São Paulo         2   \n",
       "79              86    2024-07-13        2025-03-31       São Paulo         4   \n",
       "82              89    2025-01-24        2025-03-31       São Paulo         4   \n",
       "84              91    2024-07-09        2025-01-31          Paraná         2   \n",
       "85              93    2024-09-14        2025-03-31       São Paulo         4   \n",
       "90              98    2024-09-28        2025-06-30       São Paulo         7   \n",
       "\n",
       "                                nome_cargo  id_estrutura  \\\n",
       "2               Analista de Banco de Dados             3   \n",
       "3               Analista de Banco de Dados             8   \n",
       "4                      Analista de Suporte             5   \n",
       "5   Analista de Segurança da Informação SR             7   \n",
       "11                  Engenheiro de Software            10   \n",
       "12                     Analista de Suporte             6   \n",
       "19                           Gerente de TI            10   \n",
       "24              Analista de Banco de Dados             2   \n",
       "28                     Analista de Suporte             7   \n",
       "33              Analista de Banco de Dados             8   \n",
       "40               Desenvolvedor de Software             6   \n",
       "43              Analista de Banco de Dados             4   \n",
       "48               Administrador de Sistemas             8   \n",
       "49              Analista de Banco de Dados            10   \n",
       "62  Analista de Segurança da Informação SR             9   \n",
       "63                           Gerente de TI             9   \n",
       "70               Desenvolvedor de Software             6   \n",
       "72                     Gerente de Projetos             7   \n",
       "73              Analista de Banco de Dados             4   \n",
       "74                   Especialista em Redes            10   \n",
       "77                     Analista de Suporte             5   \n",
       "79               Desenvolvedor de Software             4   \n",
       "82               Desenvolvedor de Software             5   \n",
       "84                     Analista de Suporte             7   \n",
       "85               Desenvolvedor de Software             6   \n",
       "90               Administrador de Sistemas             9   \n",
       "\n",
       "                     nome_estrutura  \n",
       "2      GER TECNOLOGIA DA INFORMAÇÃO  \n",
       "3                        GER VENDAS  \n",
       "4                    GER FINANCEIRO  \n",
       "5                     GER OPERAÇÕES  \n",
       "11  GER DESENVOLVIMENTO DE NEGÓCIOS  \n",
       "12                    GER MARKETING  \n",
       "19  GER DESENVOLVIMENTO DE NEGÓCIOS  \n",
       "24   GER INTELIGENCIA COMERCIAL B2B  \n",
       "28                    GER OPERAÇÕES  \n",
       "33                       GER VENDAS  \n",
       "40                    GER MARKETING  \n",
       "43             GER RECURSOS HUMANOS  \n",
       "48                       GER VENDAS  \n",
       "49  GER DESENVOLVIMENTO DE NEGÓCIOS  \n",
       "62           GER SUPORTE AO CLIENTE  \n",
       "63           GER SUPORTE AO CLIENTE  \n",
       "70                    GER MARKETING  \n",
       "72                    GER OPERAÇÕES  \n",
       "73             GER RECURSOS HUMANOS  \n",
       "74  GER DESENVOLVIMENTO DE NEGÓCIOS  \n",
       "77                   GER FINANCEIRO  \n",
       "79             GER RECURSOS HUMANOS  \n",
       "82                   GER FINANCEIRO  \n",
       "84                    GER OPERAÇÕES  \n",
       "85                    GER MARKETING  \n",
       "90           GER SUPORTE AO CLIENTE  "
      ]
     },
     "execution_count": 116,
     "metadata": {},
     "output_type": "execute_result"
    }
   ],
   "source": [
    "# Obter a tabela final com todas as tabelas unidas e filtradas\n",
    "df_formated"
   ]
  },
  {
   "cell_type": "markdown",
   "id": "12a51172",
   "metadata": {},
   "source": [
    "**CARREGAR OS DADOS**"
   ]
  },
  {
   "cell_type": "markdown",
   "id": "81a196db",
   "metadata": {},
   "source": [
    "Carrega a tabela formatada para o formato csv no caminho de destino"
   ]
  },
  {
   "cell_type": "code",
   "execution_count": 117,
   "id": "cb47ccac",
   "metadata": {},
   "outputs": [],
   "source": [
    "end_path = 'data_processed/'\n",
    "file_name = 'tabela_formatada.csv'\n",
    "\n",
    "df_formated.to_csv(end_path + file_name, index=False, encoding='utf-8')"
   ]
  },
  {
   "cell_type": "markdown",
   "id": "4cfee785",
   "metadata": {},
   "source": [
    "**OBTER INDICADORES**"
   ]
  },
  {
   "cell_type": "markdown",
   "id": "403a6ef1",
   "metadata": {},
   "source": [
    "Preparação dos dados dos indicadores"
   ]
  },
  {
   "cell_type": "code",
   "execution_count": 118,
   "id": "11c19924",
   "metadata": {},
   "outputs": [],
   "source": [
    "# Cria duas novas colunas com o total de \"data_admissao\" and \"data_desligamento\" por mês\n",
    "df_formated['mes_admissao'] = df_formated['data_admissao'].dt.to_period('M')\n",
    "df_formated['mes_desligamento'] = df_formated['data_desligamento'].dt.to_period('M')"
   ]
  },
  {
   "cell_type": "markdown",
   "id": "6e4c1161",
   "metadata": {},
   "source": [
    "Obter o total de funcionários contratados por mês"
   ]
  },
  {
   "cell_type": "code",
   "execution_count": 119,
   "id": "19f9d213",
   "metadata": {},
   "outputs": [
    {
     "data": {
      "text/plain": [
       "mes_admissao\n",
       "2024-03    1\n",
       "2024-05    1\n",
       "2024-06    2\n",
       "2024-07    3\n",
       "2024-08    2\n",
       "2024-09    3\n",
       "2024-10    2\n",
       "2024-11    1\n",
       "2024-12    4\n",
       "2025-01    3\n",
       "2025-02    1\n",
       "2025-04    1\n",
       "2025-05    2\n",
       "Freq: M, Name: admitidos, dtype: int64"
      ]
     },
     "execution_count": 119,
     "metadata": {},
     "output_type": "execute_result"
    }
   ],
   "source": [
    "# Obter a tabela (serie) com o total de admissão por mês\n",
    "s_admitidos = df_formated['mes_admissao'].value_counts().sort_index()\n",
    "s_admitidos = s_admitidos.rename('admitidos') # Da um nome a tabela (serie)\n",
    "s_admitidos"
   ]
  },
  {
   "cell_type": "markdown",
   "id": "9998aec4",
   "metadata": {},
   "source": [
    "Obter o total de funcionários desligados por mês"
   ]
  },
  {
   "cell_type": "code",
   "execution_count": 120,
   "id": "756c2a28",
   "metadata": {},
   "outputs": [
    {
     "data": {
      "text/plain": [
       "mes_desligamento\n",
       "2024-12    7\n",
       "2025-01    5\n",
       "2025-02    2\n",
       "2025-03    5\n",
       "2025-04    1\n",
       "2025-05    1\n",
       "2025-06    2\n",
       "2025-07    1\n",
       "2025-08    2\n",
       "Freq: M, Name: desligados, dtype: int64"
      ]
     },
     "execution_count": 120,
     "metadata": {},
     "output_type": "execute_result"
    }
   ],
   "source": [
    "# Obter a tabela (serie) com o total de desligamento por mês\n",
    "s_desligados = df_formated['mes_desligamento'].value_counts().sort_index()\n",
    "s_desligados = s_desligados.rename('desligados') # Da um nome a tabela (serie)\n",
    "s_desligados"
   ]
  },
  {
   "cell_type": "markdown",
   "id": "ee5e706e",
   "metadata": {},
   "source": [
    "Obter o total de funcionários ativos por mês"
   ]
  },
  {
   "cell_type": "code",
   "execution_count": 121,
   "id": "fabccdb1",
   "metadata": {},
   "outputs": [
    {
     "name": "stdout",
     "output_type": "stream",
     "text": [
      "Data inicial: 2024-03\n",
      "Data final: 2025-08\n",
      "Total de meses entre as duas: 18\n"
     ]
    }
   ],
   "source": [
    "# Obter o primeiro e o último mês registrado na tabela\n",
    "first_date = df_formated['mes_admissao'].min()\n",
    "last_date = df_formated['mes_desligamento'].max()\n",
    "\n",
    "print('Data inicial: ' + str(first_date))\n",
    "print('Data final: ' + str(last_date))\n",
    "\n",
    "# Obter todos os meses entre \"first_date\" e \"last_date\"\n",
    "all_months = pd.period_range(first_date, last_date, freq='M')\n",
    "\n",
    "print(\"Total de meses entre as duas: \" + str(all_months.__len__()))"
   ]
  },
  {
   "cell_type": "code",
   "execution_count": 122,
   "id": "0d6753d9",
   "metadata": {},
   "outputs": [
    {
     "data": {
      "text/plain": [
       "mes\n",
       "2024-03     1\n",
       "2024-04     1\n",
       "2024-05     2\n",
       "2024-06     4\n",
       "2024-07     7\n",
       "2024-08     9\n",
       "2024-09    12\n",
       "2024-10    14\n",
       "2024-11    15\n",
       "2024-12    19\n",
       "2025-01    15\n",
       "2025-02    11\n",
       "2025-03     9\n",
       "2025-04     5\n",
       "2025-05     6\n",
       "2025-06     5\n",
       "2025-07     3\n",
       "2025-08     2\n",
       "Freq: M, Name: ativos, dtype: Int64"
      ]
     },
     "execution_count": 122,
     "metadata": {},
     "output_type": "execute_result"
    }
   ],
   "source": [
    "# Obter a tabela (serie) com o total de funcionários ativos por mês\n",
    "s_ativos = pd.Series(index=all_months, dtype='Int64', name='ativos')\n",
    "\n",
    "for mes in all_months:\n",
    "    s_ativos[mes] = df_formated[\n",
    "        (df_formated['mes_admissao'] <= mes) &\n",
    "        (df_formated['mes_desligamento'] >= mes)\n",
    "    ].shape[0]\n",
    "\n",
    "s_ativos = s_ativos.rename_axis('mes')\n",
    "s_ativos"
   ]
  },
  {
   "cell_type": "markdown",
   "id": "97b6698f",
   "metadata": {},
   "source": [
    "Criar um único dataframe com todos os indicadores"
   ]
  },
  {
   "cell_type": "code",
   "execution_count": 123,
   "id": "fc7fddd7",
   "metadata": {},
   "outputs": [],
   "source": [
    "# Cria uma lista com todas as tabelas (series) de indicadores\n",
    "series_list = [s_ativos, s_admitidos, s_desligados]\n",
    "\n",
    "# Transforma as series em um dataframe (Unidos pelos meses)\n",
    "df_indicadores = pd.concat(series_list, axis=1)\n",
    "\n",
    "# Transforma todos os valores 'NaN' em 0\n",
    "df_indicadores = df_indicadores.fillna(0).astype({\n",
    "    col: 'Int64' for col in df_indicadores.select_dtypes(include='float').columns # Transforma todas as colunas do tipo 'float' no tipo 'int'\n",
    "    })\n",
    "\n",
    "# Transforma o index em uma coluna\n",
    "i_column_name = 'mes'\n",
    "df_indicadores = df_indicadores.reset_index(names=i_column_name)"
   ]
  },
  {
   "cell_type": "markdown",
   "id": "056c9c99",
   "metadata": {},
   "source": [
    "Visualizar os indicadores"
   ]
  },
  {
   "cell_type": "code",
   "execution_count": 124,
   "id": "535bcedb",
   "metadata": {},
   "outputs": [
    {
     "data": {
      "text/html": [
       "<div>\n",
       "<style scoped>\n",
       "    .dataframe tbody tr th:only-of-type {\n",
       "        vertical-align: middle;\n",
       "    }\n",
       "\n",
       "    .dataframe tbody tr th {\n",
       "        vertical-align: top;\n",
       "    }\n",
       "\n",
       "    .dataframe thead th {\n",
       "        text-align: right;\n",
       "    }\n",
       "</style>\n",
       "<table border=\"1\" class=\"dataframe\">\n",
       "  <thead>\n",
       "    <tr style=\"text-align: right;\">\n",
       "      <th></th>\n",
       "      <th>mes</th>\n",
       "      <th>ativos</th>\n",
       "      <th>admitidos</th>\n",
       "      <th>desligados</th>\n",
       "    </tr>\n",
       "  </thead>\n",
       "  <tbody>\n",
       "    <tr>\n",
       "      <th>0</th>\n",
       "      <td>2024-03</td>\n",
       "      <td>1</td>\n",
       "      <td>1</td>\n",
       "      <td>0</td>\n",
       "    </tr>\n",
       "    <tr>\n",
       "      <th>1</th>\n",
       "      <td>2024-04</td>\n",
       "      <td>1</td>\n",
       "      <td>0</td>\n",
       "      <td>0</td>\n",
       "    </tr>\n",
       "    <tr>\n",
       "      <th>2</th>\n",
       "      <td>2024-05</td>\n",
       "      <td>2</td>\n",
       "      <td>1</td>\n",
       "      <td>0</td>\n",
       "    </tr>\n",
       "    <tr>\n",
       "      <th>3</th>\n",
       "      <td>2024-06</td>\n",
       "      <td>4</td>\n",
       "      <td>2</td>\n",
       "      <td>0</td>\n",
       "    </tr>\n",
       "    <tr>\n",
       "      <th>4</th>\n",
       "      <td>2024-07</td>\n",
       "      <td>7</td>\n",
       "      <td>3</td>\n",
       "      <td>0</td>\n",
       "    </tr>\n",
       "    <tr>\n",
       "      <th>5</th>\n",
       "      <td>2024-08</td>\n",
       "      <td>9</td>\n",
       "      <td>2</td>\n",
       "      <td>0</td>\n",
       "    </tr>\n",
       "    <tr>\n",
       "      <th>6</th>\n",
       "      <td>2024-09</td>\n",
       "      <td>12</td>\n",
       "      <td>3</td>\n",
       "      <td>0</td>\n",
       "    </tr>\n",
       "    <tr>\n",
       "      <th>7</th>\n",
       "      <td>2024-10</td>\n",
       "      <td>14</td>\n",
       "      <td>2</td>\n",
       "      <td>0</td>\n",
       "    </tr>\n",
       "    <tr>\n",
       "      <th>8</th>\n",
       "      <td>2024-11</td>\n",
       "      <td>15</td>\n",
       "      <td>1</td>\n",
       "      <td>0</td>\n",
       "    </tr>\n",
       "    <tr>\n",
       "      <th>9</th>\n",
       "      <td>2024-12</td>\n",
       "      <td>19</td>\n",
       "      <td>4</td>\n",
       "      <td>7</td>\n",
       "    </tr>\n",
       "    <tr>\n",
       "      <th>10</th>\n",
       "      <td>2025-01</td>\n",
       "      <td>15</td>\n",
       "      <td>3</td>\n",
       "      <td>5</td>\n",
       "    </tr>\n",
       "    <tr>\n",
       "      <th>11</th>\n",
       "      <td>2025-02</td>\n",
       "      <td>11</td>\n",
       "      <td>1</td>\n",
       "      <td>2</td>\n",
       "    </tr>\n",
       "    <tr>\n",
       "      <th>12</th>\n",
       "      <td>2025-03</td>\n",
       "      <td>9</td>\n",
       "      <td>0</td>\n",
       "      <td>5</td>\n",
       "    </tr>\n",
       "    <tr>\n",
       "      <th>13</th>\n",
       "      <td>2025-04</td>\n",
       "      <td>5</td>\n",
       "      <td>1</td>\n",
       "      <td>1</td>\n",
       "    </tr>\n",
       "    <tr>\n",
       "      <th>14</th>\n",
       "      <td>2025-05</td>\n",
       "      <td>6</td>\n",
       "      <td>2</td>\n",
       "      <td>1</td>\n",
       "    </tr>\n",
       "    <tr>\n",
       "      <th>15</th>\n",
       "      <td>2025-06</td>\n",
       "      <td>5</td>\n",
       "      <td>0</td>\n",
       "      <td>2</td>\n",
       "    </tr>\n",
       "    <tr>\n",
       "      <th>16</th>\n",
       "      <td>2025-07</td>\n",
       "      <td>3</td>\n",
       "      <td>0</td>\n",
       "      <td>1</td>\n",
       "    </tr>\n",
       "    <tr>\n",
       "      <th>17</th>\n",
       "      <td>2025-08</td>\n",
       "      <td>2</td>\n",
       "      <td>0</td>\n",
       "      <td>2</td>\n",
       "    </tr>\n",
       "  </tbody>\n",
       "</table>\n",
       "</div>"
      ],
      "text/plain": [
       "        mes  ativos  admitidos  desligados\n",
       "0   2024-03       1          1           0\n",
       "1   2024-04       1          0           0\n",
       "2   2024-05       2          1           0\n",
       "3   2024-06       4          2           0\n",
       "4   2024-07       7          3           0\n",
       "5   2024-08       9          2           0\n",
       "6   2024-09      12          3           0\n",
       "7   2024-10      14          2           0\n",
       "8   2024-11      15          1           0\n",
       "9   2024-12      19          4           7\n",
       "10  2025-01      15          3           5\n",
       "11  2025-02      11          1           2\n",
       "12  2025-03       9          0           5\n",
       "13  2025-04       5          1           1\n",
       "14  2025-05       6          2           1\n",
       "15  2025-06       5          0           2\n",
       "16  2025-07       3          0           1\n",
       "17  2025-08       2          0           2"
      ]
     },
     "execution_count": 124,
     "metadata": {},
     "output_type": "execute_result"
    }
   ],
   "source": [
    "# Obter a tabela final de indicadores\n",
    "df_indicadores"
   ]
  },
  {
   "cell_type": "markdown",
   "id": "9f4f2e52",
   "metadata": {},
   "source": [
    "**CARREGAR TABELA INDICADORES**"
   ]
  },
  {
   "cell_type": "markdown",
   "id": "6b0d4860",
   "metadata": {},
   "source": [
    "Carrega a tabela de indicadores formatada para o formato csv no caminho de destino"
   ]
  },
  {
   "cell_type": "code",
   "execution_count": 125,
   "id": "4b036754",
   "metadata": {},
   "outputs": [],
   "source": [
    "end_path = 'data_processed/'\n",
    "file_name = 'indicadores.csv'\n",
    "\n",
    "df_indicadores.to_csv(end_path + file_name, index=False, encoding='utf-8')"
   ]
  }
 ],
 "metadata": {
  "kernelspec": {
   "display_name": ".venv",
   "language": "python",
   "name": "python3"
  },
  "language_info": {
   "codemirror_mode": {
    "name": "ipython",
    "version": 3
   },
   "file_extension": ".py",
   "mimetype": "text/x-python",
   "name": "python",
   "nbconvert_exporter": "python",
   "pygments_lexer": "ipython3",
   "version": "3.10.12"
  }
 },
 "nbformat": 4,
 "nbformat_minor": 5
}
