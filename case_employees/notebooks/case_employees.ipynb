{
 "cells": [
  {
   "cell_type": "markdown",
   "id": "090cc32d",
   "metadata": {},
   "source": [
    "**EXTRAIR OS DADOS**"
   ]
  },
  {
   "cell_type": "markdown",
   "id": "835940e6",
   "metadata": {},
   "source": [
    "Importar bibliotecas necessárias"
   ]
  },
  {
   "cell_type": "code",
   "execution_count": null,
   "id": "dfc3e512",
   "metadata": {},
   "outputs": [],
   "source": [
    "import pandas as pd # Para manipulação de databeses e dataframes"
   ]
  },
  {
   "cell_type": "markdown",
   "id": "f2b57526",
   "metadata": {},
   "source": [
    "Obter os caminhos dos arquivos csv"
   ]
  },
  {
   "cell_type": "code",
   "execution_count": null,
   "id": "f9de6f6d",
   "metadata": {},
   "outputs": [],
   "source": [
    "path_cargos = '../data_raw/cargos.csv'\n",
    "path_estruturas = '../data_raw/estruturas.csv'\n",
    "path_funcionarios = '../data_raw/funcionarios.csv'"
   ]
  },
  {
   "cell_type": "markdown",
   "id": "ba93493c",
   "metadata": {},
   "source": [
    "Ler arquivos CSV como DataFrames"
   ]
  },
  {
   "cell_type": "code",
   "execution_count": null,
   "id": "2209194e",
   "metadata": {},
   "outputs": [],
   "source": [
    "# Usar encoding:'utf-8' para garantir que os dados sigam os padrões de acentuação brasileiro.\n",
    "\n",
    "df_cargos = pd.read_csv(path_cargos, encoding='utf-8')\n",
    "df_estruturas = pd.read_csv(path_estruturas, encoding='utf-8')\n",
    "df_funcionarios = pd.read_csv(path_funcionarios, encoding='utf-8')"
   ]
  },
  {
   "cell_type": "code",
   "execution_count": null,
   "id": "66ced540",
   "metadata": {},
   "outputs": [],
   "source": [
    "# Validar os dados extraídos\n",
    "df_funcionarios"
   ]
  },
  {
   "cell_type": "markdown",
   "id": "87f54ba3",
   "metadata": {},
   "source": [
    "**TRANSFORMAR OS DADOS**"
   ]
  },
  {
   "cell_type": "markdown",
   "id": "42f551b6",
   "metadata": {},
   "source": [
    "Transformar as colunas de data para o tipo 'datetime'"
   ]
  },
  {
   "cell_type": "code",
   "execution_count": null,
   "id": "e23eb2f5",
   "metadata": {},
   "outputs": [],
   "source": [
    "# Cria uma lista com todos os dataframes\n",
    "df_list = [df_cargos, df_estruturas, df_funcionarios]"
   ]
  },
  {
   "cell_type": "code",
   "execution_count": null,
   "id": "5c4850c2",
   "metadata": {},
   "outputs": [],
   "source": [
    "# Verifica o tipo atual das colunas de data\n",
    "print(df_cargos['start_date'][0])\n",
    "type(df_cargos['start_date'][0])"
   ]
  },
  {
   "cell_type": "code",
   "execution_count": null,
   "id": "82d9924c",
   "metadata": {},
   "outputs": [],
   "source": [
    "# Cria uma lista com todos os nomes das colunas de data\n",
    "date_columns = ['start_date', 'end_date', 'data_admissao', 'data_desligamento']\n",
    "\n",
    "# Transforma o tipo de todas as colunas de data em todos os dataframes para o formato 'datetime'\n",
    "for df in df_list:\n",
    "\n",
    "    # Obter todas os nomes das colunas do dataframe atual\n",
    "    df_columns = df.columns.tolist()\n",
    "\n",
    "    for column in df_columns:\n",
    "        # Verifica se o nome da atual coluna possui na lista de 'date_columns'\n",
    "        if column in date_columns:\n",
    "            # Transforma a coluna atual para o tipo 'datetime'\n",
    "            df[column] = pd.to_datetime(df[column], errors='coerce')\n"
   ]
  },
  {
   "cell_type": "code",
   "execution_count": null,
   "id": "8e50b20a",
   "metadata": {},
   "outputs": [],
   "source": [
    "# Confirma o novo tipo das colunas de data\n",
    "df_cargos['start_date'][0]"
   ]
  },
  {
   "cell_type": "markdown",
   "id": "1fb728f5",
   "metadata": {},
   "source": [
    "Unir as tabelas \"funcionarios\" e \"cargos\""
   ]
  },
  {
   "cell_type": "code",
   "execution_count": null,
   "id": "33991597",
   "metadata": {},
   "outputs": [],
   "source": [
    "df_merged = pd.merge(df_funcionarios, df_cargos, on='id_cargo', how='left') # LEFT JOIN para manter \"funcionarios\", mesmo que não exista um \"cargo\" correspondente"
   ]
  },
  {
   "cell_type": "markdown",
   "id": "4d981b38",
   "metadata": {},
   "source": [
    "Filtrar \"data_admissao\" e \"data_desligamento\" para estar entre \"start_date\" e \"end_date\""
   ]
  },
  {
   "cell_type": "code",
   "execution_count": null,
   "id": "59bd9297",
   "metadata": {},
   "outputs": [],
   "source": [
    "# Obtém todos NaT de \"data_desligamento\" e substitui por \"end_date\" !!!!!!!!!!!!!!!!!!!!!!!!!!!!!!!!!!!!!!!!!!!!!!\n",
    "df_merged.loc[df_merged['data_desligamento'].isna(), 'data_desligamento'] = df_merged['end_date']\n"
   ]
  },
  {
   "cell_type": "code",
   "execution_count": null,
   "id": "02993843",
   "metadata": {},
   "outputs": [],
   "source": [
    "# Filtra o novo dataframe unido\n",
    "df_filtered = df_merged[\n",
    "    (df_merged['data_admissao'] >= df_merged['start_date']) &\n",
    "    (df_merged['data_desligamento'] <= df_merged['end_date'])\n",
    "]"
   ]
  },
  {
   "cell_type": "code",
   "execution_count": null,
   "id": "2f6df0c7",
   "metadata": {},
   "outputs": [],
   "source": [
    "# Valida o número de linhas do antigo e o novo dataframe filtrado\n",
    "print(\"Total de linhas de df_merged: \" + str(df_merged.__len__()))\n",
    "print(\"Total de linhas de df_filtered: \" + str(df_filtered.__len__()))"
   ]
  },
  {
   "cell_type": "code",
   "execution_count": null,
   "id": "3eabeaa1",
   "metadata": {},
   "outputs": [],
   "source": [
    "# Confirma a nova tabela filtrada (funcionarios e cargos)\n",
    "df_filtered"
   ]
  },
  {
   "cell_type": "markdown",
   "id": "94b170c5",
   "metadata": {},
   "source": [
    "Unir as tabelas anteriores e a tabela \"estruturas\""
   ]
  },
  {
   "cell_type": "code",
   "execution_count": null,
   "id": "e6054e95",
   "metadata": {},
   "outputs": [],
   "source": [
    "df_merged_all = pd.merge(df_filtered, df_estruturas, on='id_estrutura', how='left') # LEFT JOIN para manter os dados anteriores"
   ]
  },
  {
   "cell_type": "code",
   "execution_count": null,
   "id": "b243bf59",
   "metadata": {},
   "outputs": [],
   "source": [
    "# Renomeia a colunas start e end para uma melhor manipulação posterior\n",
    "df_merged_all = df_merged_all.rename(columns={\n",
    "    'start_date_x': 'start_date_cargo',\n",
    "    'end_date_x': 'end_date_cargo',\n",
    "    'start_date_y': 'start_date_estrutura',\n",
    "    'end_date_y': 'end_date_estrutura'\n",
    "})"
   ]
  },
  {
   "cell_type": "markdown",
   "id": "56df609f",
   "metadata": {},
   "source": [
    "Filtra \"data_admissao\" e \"data_desligamento\" para estar entre \"start_date_estrutura\" e \"end_date_estrutura\""
   ]
  },
  {
   "cell_type": "code",
   "execution_count": null,
   "id": "ae63de66",
   "metadata": {},
   "outputs": [],
   "source": [
    "# Filtrar o dataframe com todas as tabelas unidas\n",
    "df_filtered_all = df_merged_all[\n",
    "    (df_merged_all['data_admissao'] >= df_merged_all['start_date_estrutura']) &\n",
    "    ((df_merged_all['data_desligamento'] <= df_merged_all['end_date_estrutura']))\n",
    "]"
   ]
  },
  {
   "cell_type": "code",
   "execution_count": null,
   "id": "8c5037b1",
   "metadata": {},
   "outputs": [],
   "source": [
    "print(\"Tamanho da nova tabela filtrada: \" + str(df_filtered_all.__len__()))"
   ]
  },
  {
   "cell_type": "markdown",
   "id": "ea3169de",
   "metadata": {},
   "source": [
    "Remove as colunas \"start_date\" e \"end_date\""
   ]
  },
  {
   "cell_type": "code",
   "execution_count": null,
   "id": "a5e0693c",
   "metadata": {},
   "outputs": [],
   "source": [
    "# Remove colunas\n",
    "df_formated = df_filtered_all.drop(axis=1, columns=[\n",
    "    'start_date_cargo', 'end_date_cargo', 'start_date_estrutura', 'end_date_estrutura'\n",
    "])"
   ]
  },
  {
   "cell_type": "markdown",
   "id": "be712065",
   "metadata": {},
   "source": [
    "Reorganizar as colunas"
   ]
  },
  {
   "cell_type": "code",
   "execution_count": null,
   "id": "7926eb57",
   "metadata": {},
   "outputs": [],
   "source": [
    "# Reoganiza as colunas na ordem desejada (Para melhor visualização do usuário final)\n",
    "df_formated = df_formated[['id_funcionario', 'data_admissao', 'data_desligamento', 'estado', 'id_cargo', 'nome_cargo', 'id_estrutura', 'nome_estrutura']]"
   ]
  },
  {
   "cell_type": "code",
   "execution_count": null,
   "id": "45d559a2",
   "metadata": {},
   "outputs": [],
   "source": [
    "# Obter a tabela final com todas as tabelas unidas e filtradas\n",
    "df_formated"
   ]
  },
  {
   "cell_type": "markdown",
   "id": "12a51172",
   "metadata": {},
   "source": [
    "**CARREGAR OS DADOS**"
   ]
  },
  {
   "cell_type": "markdown",
   "id": "81a196db",
   "metadata": {},
   "source": [
    "Carrega a tabela formatada para o formato csv no caminho de destino"
   ]
  },
  {
   "cell_type": "code",
   "execution_count": null,
   "id": "cb47ccac",
   "metadata": {},
   "outputs": [],
   "source": [
    "end_path = '../data_processed/'\n",
    "file_name = 'tabela_formatada.csv'\n",
    "\n",
    "df_formated.to_csv(end_path + file_name, index=False, encoding='utf-8')"
   ]
  },
  {
   "cell_type": "markdown",
   "id": "4cfee785",
   "metadata": {},
   "source": [
    "**OBTER INDICADORES**"
   ]
  },
  {
   "cell_type": "markdown",
   "id": "403a6ef1",
   "metadata": {},
   "source": [
    "Preparação dos dados dos indicadores"
   ]
  },
  {
   "cell_type": "code",
   "execution_count": null,
   "id": "11c19924",
   "metadata": {},
   "outputs": [],
   "source": [
    "# Cria duas novas colunas com o total de \"data_admissao\" and \"data_desligamento\" por mês\n",
    "df_formated['mes_admissao'] = df_formated['data_admissao'].dt.to_period('M')\n",
    "df_formated['mes_desligamento'] = df_formated['data_desligamento'].dt.to_period('M')"
   ]
  },
  {
   "cell_type": "markdown",
   "id": "6e4c1161",
   "metadata": {},
   "source": [
    "Obter o total de funcionários contratados e desligados por mês"
   ]
  },
  {
   "cell_type": "code",
   "execution_count": null,
   "id": "19f9d213",
   "metadata": {},
   "outputs": [],
   "source": [
    "# Obter a tabela (serie) com o total de admissão por mês\n",
    "s_admitidos = df_formated['mes_admissao'].value_counts().sort_index()\n",
    "s_admitidos = s_admitidos.rename('admitidos') # Da um nome a tabela (serie)\n",
    "s_admitidos"
   ]
  },
  {
   "cell_type": "code",
   "execution_count": null,
   "id": "756c2a28",
   "metadata": {},
   "outputs": [],
   "source": [
    "# Obter a tabela (serie) com o total de desligamento por mês\n",
    "s_desligados = df_formated['mes_desligamento'].value_counts().sort_index()\n",
    "s_desligados = s_desligados.rename('desligados') # Da um nome a tabela (serie)\n",
    "s_desligados"
   ]
  },
  {
   "cell_type": "markdown",
   "id": "ee5e706e",
   "metadata": {},
   "source": [
    "Obter o total de funcionários ativos por mês"
   ]
  },
  {
   "cell_type": "code",
   "execution_count": null,
   "id": "fabccdb1",
   "metadata": {},
   "outputs": [],
   "source": [
    "# Obter o primeiro e o último mês registrado na tabela\n",
    "first_date = df_formated['mes_admissao'].min()\n",
    "last_date = df_formated['mes_desligamento'].max()\n",
    "\n",
    "print('Data inicial: ' + str(first_date))\n",
    "print('Data final: ' + str(last_date))\n",
    "\n",
    "# Obter todos os meses entre \"first_date\" e \"last_date\"\n",
    "all_months = pd.period_range(first_date, last_date, freq='M')\n",
    "\n",
    "print(\"Total de meses entre as duas: \" + str(all_months.__len__()))"
   ]
  },
  {
   "cell_type": "code",
   "execution_count": null,
   "id": "0d6753d9",
   "metadata": {},
   "outputs": [],
   "source": [
    "# Obter a tabela (serie) com o total de funcionários ativos por mês\n",
    "s_ativos = pd.Series(index=all_months, dtype='Int64', name='ativos')\n",
    "\n",
    "for mes in all_months:\n",
    "    s_ativos[mes] = df_formated[\n",
    "        (df_formated['mes_admissao'] <= mes) &\n",
    "        (df_formated['mes_desligamento'] >= mes)\n",
    "    ].shape[0]\n",
    "\n",
    "s_ativos = s_ativos.rename_axis('mes')\n",
    "s_ativos"
   ]
  },
  {
   "cell_type": "markdown",
   "id": "97b6698f",
   "metadata": {},
   "source": [
    "Criar um único dataframe com todos os indicadores"
   ]
  },
  {
   "cell_type": "code",
   "execution_count": null,
   "id": "fc7fddd7",
   "metadata": {},
   "outputs": [],
   "source": [
    "# Cria uma lista com todas as tabelas (series) de indicadores\n",
    "series_list = [s_ativos, s_admitidos, s_desligados]\n",
    "\n",
    "# Transforma as series em um dataframe (Unidos pelos meses)\n",
    "df_indicadores = pd.concat(series_list, axis=1)\n",
    "\n",
    "# Transforma todos os valores 'NaN' em 0\n",
    "df_indicadores = df_indicadores.fillna(0).astype({\n",
    "    col: 'Int64' for col in df_indicadores.select_dtypes(include='float').columns # Transforma todas as colunas do tipo 'float' no tipo 'int'\n",
    "    })\n",
    "\n",
    "# Transforma o index em uma coluna\n",
    "i_column_name = 'mes'\n",
    "df_indicadores = df_indicadores.reset_index(names=i_column_name)"
   ]
  },
  {
   "cell_type": "code",
   "execution_count": null,
   "id": "535bcedb",
   "metadata": {},
   "outputs": [],
   "source": [
    "# Obter a tabela final de indicadores\n",
    "df_indicadores"
   ]
  },
  {
   "cell_type": "markdown",
   "id": "9f4f2e52",
   "metadata": {},
   "source": [
    "**CARREGAR TABELA INDICADORES**"
   ]
  },
  {
   "cell_type": "markdown",
   "id": "6b0d4860",
   "metadata": {},
   "source": [
    "Carrega a tabela de indicadores formatada para o formato csv no caminho de destino"
   ]
  },
  {
   "cell_type": "code",
   "execution_count": null,
   "id": "4b036754",
   "metadata": {},
   "outputs": [],
   "source": [
    "end_path = '../data_processed/'\n",
    "file_name = 'indicadores.csv'\n",
    "\n",
    "df_indicadores.to_csv(end_path + file_name, index=False, encoding='utf-8')"
   ]
  }
 ],
 "metadata": {
  "kernelspec": {
   "display_name": ".venv",
   "language": "python",
   "name": "python3"
  },
  "language_info": {
   "codemirror_mode": {
    "name": "ipython",
    "version": 3
   },
   "file_extension": ".py",
   "mimetype": "text/x-python",
   "name": "python",
   "nbconvert_exporter": "python",
   "pygments_lexer": "ipython3",
   "version": "3.10.12"
  }
 },
 "nbformat": 4,
 "nbformat_minor": 5
}
